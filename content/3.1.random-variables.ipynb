{
 "cells": [
  {
   "cell_type": "code",
   "execution_count": 1,
   "metadata": {},
   "outputs": [],
   "source": [
    "var open = require('./open')"
   ]
  },
  {
   "cell_type": "markdown",
   "metadata": {},
   "source": [
    "> “From where we stand the rain seems random. If we could stand somewhere else, we would see the order in it.” ― Tony Hillerman, Coyote Waits"
   ]
  },
  {
   "cell_type": "markdown",
   "metadata": {},
   "source": [
    "Random variable block\n",
    "-----------------------\n",
    "To add a random variable to a model, simply click `Add block` then choose `Random variable`. A new block will appear in the model bar containing 5 main parts:\n",
    "\n",
    "1. Each random variable should have a name. StatSim automatically gives a name to a new random variable, however you can change it whenever you want in the `Name` field.\n",
    "\n",
    "2. The second field determines variable size. If this value is more than 1, a random array will be created\n",
    "\n",
    "3. The third required field is a probability distribution. It actually define randomness of the random variable. How likely are certain values compared to another values. There are more than 20 built-in distributions in StatSim. [The full list of probability distributions in WebPPL](http://docs.webppl.org/en/master/distributions.html)\n",
    "\n",
    "4. Each random distribution has its own parameters. For example `Uniform` distribution need `a` and `b` that set bottom and upper limit for the random variable all values of which are equally likely. The `Gaussian` asks for the mean `mu` and standard deviation `sigma`.\n",
    "\n",
    "5. `Show in output` makes the variable appear in the model results. If you are not interested in the value of specific random variable and need only as a part of expression or somethin else just unset this checkbox.\n",
    "\n",
    "When you created and set a random variable, use it in your model as any other block like data or expression."
   ]
  },
  {
   "cell_type": "markdown",
   "metadata": {},
   "source": [
    "Choosing a simulation method\n",
    "-------------------------------\n",
    "After finishing designing a stochastic model you need one more thing to do before running the simulation. By default, StatSim uses `Deterministic` simulation method. It simply executes the model once. Just as a regular program. If you run a stochastic model with such method, the output you will get will be a simple scalar value, probably not what you really need. In the next version StatSim will automatically choose a simulation method depending on the added blocks, however understanding different types of methods is still needed.\n",
    "\n",
    "1. *Deterministic* - the model is evaluated once as a regular deterministic program\n",
    "2. *Enumeration* - the app enumerates all possible execution paths and tries to find the solution analytically. Works only with discrete distributions. Not always.\n",
    "3. *Rejection Sampling* - generates samples according to created blocks. Rejects samples according to the `Condition` block. Each sample is independent. That's good! However the rejection sampler can stuck when condition. \n",
    "4. *MCMC (Markov Chain Monte Carlo)* - generates samples with Metropolis-Hastings algorithm. Such samples don't really uses random variables from the model to generate samples, it rather uses their and `Observer` likelihoods (strictly speaking log-likelihoods) to choose the next step on the parameter space. \n",
    "5. *HMC (Hamiltonian Monte Carlo)* - sampling algorithm similar to MCMC. It reduces the correlation between sampled states using a Hamiltonian evolution. It's a good option when input to the `Factor` block is a function of multiple variables. However it's more sensitive to changing method parameters.\n",
    "6. \n",
    "\n",
    "I'll not dive into details here and probably add a separate section later."
   ]
  },
  {
   "cell_type": "markdown",
   "metadata": {},
   "source": [
    "Example: Gaussian distribution\n",
    "---------------------------------\n",
    "Let's create the simples example model containing only one random variable that goes directly to the output. After running the model, we will try to understand what all output block mean.\n",
    "\n"
   ]
  },
  {
   "cell_type": "code",
   "execution_count": null,
   "metadata": {},
   "outputs": [],
   "source": []
  }
 ],
 "metadata": {
  "kernelspec": {
   "display_name": "Javascript (Node.js)",
   "language": "javascript",
   "name": "javascript"
  },
  "language_info": {
   "file_extension": ".js",
   "mimetype": "application/javascript",
   "name": "javascript",
   "version": "9.8.0"
  }
 },
 "nbformat": 4,
 "nbformat_minor": 2
}
