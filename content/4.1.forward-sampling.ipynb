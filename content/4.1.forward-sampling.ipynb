{
 "cells": [
  {
   "cell_type": "code",
   "execution_count": 2,
   "metadata": {},
   "outputs": [],
   "source": [
    "var iframer = require('./iframer')"
   ]
  },
  {
   "cell_type": "markdown",
   "metadata": {},
   "source": [
    "We started from deterministic models. Such models are often embedded in regular computer programs as calculators, formulas, system relationships. Then we added probabilistic variables as main primitives of stochastic (random) models. A probabilistic model describes a sampling process and it's output is not deterministic, but random. Fixed inputs doesn't produce same outputs. Strictly speaking such output is a function of the model's random variables so it's also a random variable.\n",
    "\n",
    "Getting random output of the probabilistic model could be useful in many cases. Throwing dice is probably the most popular example. It's quite similar to running a regular program with some tricky `random()` calls. When you simply run a probabilistic model you get a sample as an output. That's only one of all possible values of corresponding random variable. However we often need not a sample, but a probabilistic distribution as an output. So we could reason about what values are more likely, what is the credible interval etc. The process of finding probability distributions of unknown random variables of a model is called *inference*. \n",
    "\n",
    "Inference with probability laws\n",
    "===\n",
    "Let's check an example model. Here we will not use StatSim to do inference, but determine a target distribution with math. The example contains two iid (independent and identically distributed) random variables with gaussian distribution and known means and standard deviations:\n",
    "$$ X \\sim \\mathcal{N}(5, 1) $$\n",
    "$$ Y \\sim \\mathcal{N}(5, 1) $$\n",
    "$$ Z = X + Y $$\n",
    "\n",
    "A random variable $Z$ is the model output and our target. What we are interested in here  is not a result of model sampling but a probability distribution of $Z$\n",
    "\n",
    "Luckily a formula for [sum of normally distributed random variables](https://en.wikipedia.org/wiki/Sum_of_normally_distributed_random_variables) exists and easily applied:\n",
    "\n",
    "$$ Z \\sim \\mathcal{N}(5 + 5, 1^2 + 1^2) $$\n",
    "\n"
   ]
  }
 ],
 "metadata": {
  "kernelspec": {
   "display_name": "Javascript (Node.js)",
   "language": "javascript",
   "name": "javascript"
  },
  "language_info": {
   "file_extension": ".js",
   "mimetype": "application/javascript",
   "name": "javascript",
   "version": "9.8.0"
  }
 },
 "nbformat": 4,
 "nbformat_minor": 2
}
