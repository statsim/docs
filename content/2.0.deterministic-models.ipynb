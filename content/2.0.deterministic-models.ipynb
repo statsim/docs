{
 "cells": [
  {
   "cell_type": "code",
   "execution_count": 1,
   "metadata": {},
   "outputs": [],
   "source": [
    "var iframer = require('./iframer')"
   ]
  },
  {
   "cell_type": "markdown",
   "metadata": {},
   "source": [
    "> *Deterministic model.* Mathematical model in which outcomes are precisely determined through known relationships among states and events, without any room for random variation. In such models, a given input will always produce the same output, such as in a known chemical reaction. In comparison, stochastic models use ranges of values for variables in the form of probability distributions. [source](http://www.businessdictionary.com/definition/deterministic-model.html)"
   ]
  },
  {
   "cell_type": "markdown",
   "metadata": {},
   "source": [
    "Why creating models\n",
    "---------------------\n",
    "Models represent relationships between some quantities and qualities. Sometimes people can construct such models in their mind, without really understanding they are modeling something. We don't need special software to calculate simple things. However when the number of quantities and their inter-connection grow we need a tool to deal with the complexity. Especially hard to reason about values that have some kind of feedback."
   ]
  },
  {
   "cell_type": "markdown",
   "metadata": {},
   "source": [
    "Test hypotheses with models\n",
    "------------------------------\n",
    "Sometimes you can test hypotheses about the system with a model. However the model is not the reality. Keep in mind that there are no 100% correct models that describe reality.\n"
   ]
  },
  {
   "cell_type": "markdown",
   "metadata": {},
   "source": [
    "Define the problem\n",
    "--------------------\n",
    "Creating a model starts as any scientific or other project with defining a problem. It's possible to create models just for the act of creation and exploration, however only problem-oriented projects help filter only things you need ask correct questions at the end."
   ]
  },
  {
   "cell_type": "markdown",
   "metadata": {},
   "source": [
    "Collect information\n",
    "---------------------\n",
    "Collect available relevant information. "
   ]
  },
  {
   "cell_type": "markdown",
   "metadata": {},
   "source": [
    "Simplify\n",
    "---------\n",
    "The world is complex, and trying to transfer all the real-world complexity into the model is not really a good idea. Extract what really matters and create a model based on that quantities\n"
   ]
  }
 ],
 "metadata": {
  "kernelspec": {
   "display_name": "Javascript (Node.js)",
   "language": "javascript",
   "name": "javascript"
  },
  "language_info": {
   "file_extension": ".js",
   "mimetype": "application/javascript",
   "name": "javascript",
   "version": "9.8.0"
  }
 },
 "nbformat": 4,
 "nbformat_minor": 2
}
